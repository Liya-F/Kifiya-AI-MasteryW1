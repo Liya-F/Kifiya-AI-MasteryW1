{
 "cells": [
  {
   "cell_type": "code",
   "execution_count": 2,
   "metadata": {},
   "outputs": [],
   "source": [
    "import pandas as pd\n",
    "import matplotlib.pyplot as plt\n",
    "import seaborn as sns\n",
    "import pynance as pn\n",
    "import matplotlib.pyplot as plt\n",
    "import talib"
   ]
  },
  {
   "cell_type": "markdown",
   "metadata": {},
   "source": [
    "#### Load and prepare the data."
   ]
  },
  {
   "cell_type": "code",
   "execution_count": 4,
   "metadata": {},
   "outputs": [
    {
     "name": "stdout",
     "output_type": "stream",
     "text": [
      "         Date      Open      High       Low     Close  Adj Close     Volume  \\\n",
      "0  2004-08-19  2.490664  2.591785  2.390042  2.499133   2.496292  897427216   \n",
      "1  2004-08-20  2.515820  2.716817  2.503118  2.697639   2.694573  458857488   \n",
      "2  2004-08-23  2.758411  2.826406  2.716070  2.724787   2.721690  366857939   \n",
      "3  2004-08-24  2.770615  2.779581  2.579581  2.611960   2.608991  306396159   \n",
      "4  2004-08-25  2.614201  2.689918  2.587302  2.640104   2.637103  184645512   \n",
      "\n",
      "   Dividends  Stock Splits  \n",
      "0        0.0           0.0  \n",
      "1        0.0           0.0  \n",
      "2        0.0           0.0  \n",
      "3        0.0           0.0  \n",
      "4        0.0           0.0  \n"
     ]
    }
   ],
   "source": [
    "data = pd.read_csv('../data/GOOG_historical_data.csv')\n",
    "print(data.head())"
   ]
  },
  {
   "cell_type": "code",
   "execution_count": 5,
   "metadata": {},
   "outputs": [
    {
     "name": "stdout",
     "output_type": "stream",
     "text": [
      "<class 'pandas.core.frame.DataFrame'>\n",
      "RangeIndex: 5020 entries, 0 to 5019\n",
      "Data columns (total 9 columns):\n",
      " #   Column        Non-Null Count  Dtype  \n",
      "---  ------        --------------  -----  \n",
      " 0   Date          5020 non-null   object \n",
      " 1   Open          5020 non-null   float64\n",
      " 2   High          5020 non-null   float64\n",
      " 3   Low           5020 non-null   float64\n",
      " 4   Close         5020 non-null   float64\n",
      " 5   Adj Close     5020 non-null   float64\n",
      " 6   Volume        5020 non-null   int64  \n",
      " 7   Dividends     5020 non-null   float64\n",
      " 8   Stock Splits  5020 non-null   float64\n",
      "dtypes: float64(7), int64(1), object(1)\n",
      "memory usage: 353.1+ KB\n",
      "None\n"
     ]
    }
   ],
   "source": [
    "print(data.info())"
   ]
  },
  {
   "cell_type": "code",
   "execution_count": 6,
   "metadata": {},
   "outputs": [
    {
     "name": "stdout",
     "output_type": "stream",
     "text": [
      "Date            0\n",
      "Open            0\n",
      "High            0\n",
      "Low             0\n",
      "Close           0\n",
      "Adj Close       0\n",
      "Volume          0\n",
      "Dividends       0\n",
      "Stock Splits    0\n",
      "dtype: int64\n"
     ]
    }
   ],
   "source": [
    "print(data.isnull().sum())"
   ]
  },
  {
   "cell_type": "code",
   "execution_count": 9,
   "metadata": {},
   "outputs": [
    {
     "name": "stdout",
     "output_type": "stream",
     "text": [
      "<class 'pandas.core.frame.DataFrame'>\n",
      "RangeIndex: 5020 entries, 0 to 5019\n",
      "Data columns (total 9 columns):\n",
      " #   Column        Non-Null Count  Dtype         \n",
      "---  ------        --------------  -----         \n",
      " 0   Date          5020 non-null   datetime64[ns]\n",
      " 1   Open          5020 non-null   float64       \n",
      " 2   High          5020 non-null   float64       \n",
      " 3   Low           5020 non-null   float64       \n",
      " 4   Close         5020 non-null   float64       \n",
      " 5   Adj Close     5020 non-null   float64       \n",
      " 6   Volume        5020 non-null   int64         \n",
      " 7   Dividends     5020 non-null   float64       \n",
      " 8   Stock Splits  5020 non-null   float64       \n",
      "dtypes: datetime64[ns](1), float64(7), int64(1)\n",
      "memory usage: 353.1 KB\n",
      "None\n",
      "Index(['Date', 'Open', 'High', 'Low', 'Close', 'Adj Close', 'Volume',\n",
      "       'Dividends', 'Stock Splits'],\n",
      "      dtype='object')\n"
     ]
    }
   ],
   "source": [
    "data['Date'] = pd.to_datetime(data['Date'], errors='coerce')\n",
    "print(data.info())\n",
    "print(data.columns)"
   ]
  },
  {
   "cell_type": "markdown",
   "metadata": {},
   "source": [
    "#### Apply Analysis Indicators with TA-Lib"
   ]
  },
  {
   "cell_type": "code",
   "execution_count": 18,
   "metadata": {},
   "outputs": [
    {
     "name": "stdout",
     "output_type": "stream",
     "text": [
      "          Date     Close    SMA_20    EMA_20        RSI      MACD  \\\n",
      "198 2005-06-02  7.170623  6.143012  6.248639  92.836838  0.464466   \n",
      "199 2005-06-03  6.980336  6.209363  6.318325  81.863619  0.465250   \n",
      "200 2005-06-06  7.246339  6.287720  6.406707  84.603320  0.481782   \n",
      "201 2005-06-07  7.300635  6.371281  6.491843  85.098154  0.493575   \n",
      "202 2005-06-08  6.962901  6.435740  6.536706  70.022934  0.470248   \n",
      "\n",
      "     MACD_signal  MACD_hist  \n",
      "198     0.360438   0.104028  \n",
      "199     0.381401   0.083849  \n",
      "200     0.401477   0.080305  \n",
      "201     0.419897   0.073678  \n",
      "202     0.429967   0.040281  \n"
     ]
    }
   ],
   "source": [
    "# Simple Moving Average (SMA)\n",
    "data['SMA_20'] = talib.SMA(data['Close'], timeperiod=20)\n",
    "\n",
    "# Exponential Moving Average (EMA)\n",
    "data['EMA_20'] = talib.EMA(data['Close'], timeperiod=20)\n",
    "\n",
    "# Relative Strength Index (RSI)\n",
    "data['RSI'] = talib.RSI(data['Close'], timeperiod=14)\n",
    "\n",
    "# Moving Average Convergence Divergence (MACD)\n",
    "data['MACD'], data['MACD_signal'], data['MACD_hist'] = talib.MACD(data['Close'], fastperiod=12, slowperiod=26, signalperiod=9)\n",
    "\n",
    "data = data.dropna()\n",
    "\n",
    "print(data[['Date', 'Close', 'SMA_20', 'EMA_20', 'RSI', 'MACD', 'MACD_signal', 'MACD_hist']].head())"
   ]
  },
  {
   "cell_type": "code",
   "execution_count": null,
   "metadata": {},
   "outputs": [],
   "source": []
  },
  {
   "cell_type": "code",
   "execution_count": null,
   "metadata": {},
   "outputs": [],
   "source": []
  },
  {
   "cell_type": "code",
   "execution_count": null,
   "metadata": {},
   "outputs": [],
   "source": [
    "\n"
   ]
  },
  {
   "cell_type": "code",
   "execution_count": null,
   "metadata": {},
   "outputs": [],
   "source": []
  }
 ],
 "metadata": {
  "kernelspec": {
   "display_name": ".venv",
   "language": "python",
   "name": "python3"
  },
  "language_info": {
   "codemirror_mode": {
    "name": "ipython",
    "version": 3
   },
   "file_extension": ".py",
   "mimetype": "text/x-python",
   "name": "python",
   "nbconvert_exporter": "python",
   "pygments_lexer": "ipython3",
   "version": "3.10.11"
  }
 },
 "nbformat": 4,
 "nbformat_minor": 2
}
